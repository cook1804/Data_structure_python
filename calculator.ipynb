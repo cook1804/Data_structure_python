{
  "nbformat": 4,
  "nbformat_minor": 0,
  "metadata": {
    "colab": {
      "name": " calculator.ipynb",
      "private_outputs": true,
      "provenance": [],
      "collapsed_sections": []
    },
    "kernelspec": {
      "name": "python3",
      "display_name": "Python 3"
    },
    "language_info": {
      "name": "python"
    }
  },
  "cells": [
    {
      "cell_type": "code",
      "metadata": {
        "id": "oTrd7xtLHTmi"
      },
      "source": [
        "\"\"\"infix 수식을 postfix 수식으로 바꾼 뒤 계산기를 만들어보자.\n",
        "   피연산자는 그대로 outstack이라는 리스트에 넣고 연산자는 opstack이라는 스택 객체를 활용한다.\n",
        "   고려해야 하는것은 예를 들어 input으로 (3+1)*4 를 받았을때, '(',')','+','*' 를 우선순위를 정하고 난뒤, \n",
        "   stack에서 우선순위가 높은것이 있을때와, 낮은것이 있을때 어떻게 작동해야하는지 고민해야 한다.\n",
        "   infix -> postfix -> 계산  : 계산기 코드 \"\"\"\n",
        "\n",
        "# 먼저 stack을 사용하기때문에 Stack 기능을 하는 class를 만들어준다. \n",
        "class Stack:\n",
        "    def __init__(self):\n",
        "        self.item = []\n",
        "\n",
        "    def push(self,val):\n",
        "        self.item.append(val)\n",
        "\n",
        "    def pop(self):\n",
        "        try:\n",
        "            return self.item.pop()\n",
        "        except IndexError:\n",
        "            print(\"Stack is empty\")\n",
        "\n",
        "    def top(self):\n",
        "        try:\n",
        "            return self.item[-1]\n",
        "        except IndexError:\n",
        "            print(\"Stack is empty\")\n",
        "        \n",
        "    def __len__(self):\n",
        "        return len(self.item)\n",
        "\n",
        "# input 으로 infix 수식을 주면 output으로 postfix 수식을 출력하도록 프로그램을 짜본다. \n",
        "\n",
        "outstack = []    #postfix 수식을 저장할 공간.\n",
        "opstack = Stack() # infix -> postfix 으로 바꾸기 위해 연산자들을 저장하는 공간.\n",
        "\n",
        "\n",
        "# input 값\n",
        "input = '(3+1)*4'\n",
        "\n",
        "\"\"\"infix -> postfix\"\"\"\n",
        "# input 값을 문자 하나씩 나눠줘야한다. list함수를 사용하여 나눠준다. list(input) -> ['(', '3', '+', '1', ')', '*', '4']\n",
        "input_list = list(input)\n",
        "\n",
        "for token in input_list:\n",
        "    if token not in '()+-*/':      # 리스트의 원소 중 '()+-*/' 에 속하지 않으면 outstack 리스트에 삽입.\n",
        "        outstack.append(i)\n",
        "    else:\n",
        "        if token == '(':\n",
        "            opstack.push(token)   # '(' 는 무조건 push\n",
        "        elif token == ')':\n",
        "            while opstack[-1] !='(':  # opstack의 맨 위의 값이 '('이 아니면 하나씩 꺼내서 outstack에 삽입\n",
        "                operate = opstack.pop()\n",
        "                outstack.append(operate)\n",
        "            opstack.pop()             # while문이 다 끝난 후 한번 더 pop을 해줌 .(opstack의 맨 위에 '('이 있으므로)\n",
        "        elif token in '+-*/':\n",
        "            if opstack.len() == 0 or opstack[-1] == '(': # opstack 이 비었거나, 맨위의 값이 '('이면 opstack에 값을 넣는다.  \n",
        "                opstack.push(token)\n",
        "            elif opstack[-1] in '+-':\n",
        "                opstack.push(token)\n",
        "            else:\n",
        "                while opstack[-1] in '*/':\n",
        "                    b = opstack.pop()\n",
        "                    outstack.append(b)\n",
        "                    \n",
        "                \n",
        "\n",
        "\n",
        "                \n",
        "\n",
        "\n"
      ],
      "execution_count": null,
      "outputs": []
    },
    {
      "cell_type": "code",
      "metadata": {
        "id": "ABMzQA6qHgbD"
      },
      "source": [
        ""
      ],
      "execution_count": null,
      "outputs": []
    }
  ]
}